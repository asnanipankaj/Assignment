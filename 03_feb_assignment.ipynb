{
 "cells": [
  {
   "cell_type": "code",
   "execution_count": 7,
   "id": "8f7a07f4-6b57-4e71-8d49-011cb5c972d1",
   "metadata": {},
   "outputs": [],
   "source": [
    "# Question 1.  def keyword is used to create a function.\n",
    "def odd():\n",
    "    list_of_odd_numbers = []\n",
    "    for i in range(1,25):\n",
    "        if i%2 != 0:\n",
    "            list_of_odd_numbers.append(i)\n",
    "    return list_of_odd_numbers"
   ]
  },
  {
   "cell_type": "code",
   "execution_count": 9,
   "id": "4d4af8b1-5de3-4916-a4c7-f6d39c57644e",
   "metadata": {},
   "outputs": [
    {
     "data": {
      "text/plain": [
       "[1, 3, 5, 7, 9, 11, 13, 15, 17, 19, 21, 23]"
      ]
     },
     "execution_count": 9,
     "metadata": {},
     "output_type": "execute_result"
    }
   ],
   "source": [
    "odd()"
   ]
  },
  {
   "cell_type": "code",
   "execution_count": 12,
   "id": "a0e4c658-5ea7-411f-9689-c107c37bc52a",
   "metadata": {},
   "outputs": [],
   "source": [
    "# Question 2. *args allows user to input multiple entries while using a function. the number of entries which can be done are not predefined or restricted by the progammer\n",
    "# **kwargs allows multiple entries. along with that while giving output it gives it in dictionary format.\n",
    "def multiple_entries(*args):\n",
    "    return args\n",
    "def multiple_dict_entries(**kwargs):\n",
    "    return kwargs"
   ]
  },
  {
   "cell_type": "code",
   "execution_count": 16,
   "id": "c7e61a76-55a9-4cfa-b3cf-45bc413f41ec",
   "metadata": {},
   "outputs": [
    {
     "data": {
      "text/plain": [
       "(5, 7, 3, 8, 'pankaj')"
      ]
     },
     "execution_count": 16,
     "metadata": {},
     "output_type": "execute_result"
    }
   ],
   "source": [
    "multiple_entries(5,7,3,8,\"pankaj\")"
   ]
  },
  {
   "cell_type": "code",
   "execution_count": 17,
   "id": "961aaed2-a618-4684-9ee3-079ecfce4829",
   "metadata": {},
   "outputs": [
    {
     "data": {
      "text/plain": [
       "{'a': 5, 'b': 7, 'c': 3, 'd': 8, 'e': 'pankaj'}"
      ]
     },
     "execution_count": 17,
     "metadata": {},
     "output_type": "execute_result"
    }
   ],
   "source": [
    "multiple_dict_entries(a = 5,b = 7,c = 3,d = 8,e = \"pankaj\")"
   ]
  },
  {
   "cell_type": "code",
   "execution_count": 24,
   "id": "f8b00f13-83ed-4713-8710-96b43a402de3",
   "metadata": {},
   "outputs": [
    {
     "name": "stdout",
     "output_type": "stream",
     "text": [
      "2\n",
      "4\n",
      "6\n",
      "8\n",
      "10\n"
     ]
    }
   ],
   "source": [
    "# Question 3. iterator is an object whose values can be acessed one by one.\n",
    "# To initialze a iterator object method used is iter() and next() method is used for iteration over it values\n",
    "l = [2,4,6,8,10,12,14,16,18,20]\n",
    "l1 = iter(l)\n",
    "for i in range(5):\n",
    "    print(next(l1))"
   ]
  },
  {
   "cell_type": "code",
   "execution_count": null,
   "id": "119139bc-6d73-4b37-93ea-c73ef2bc0916",
   "metadata": {},
   "outputs": [],
   "source": [
    "# Question 4\n",
    "# a.Generator function generates a object of values rather than making a list of objects and then giving a desired output. It helps in memoary utilisation as it generates and at the same time give the output rather than consuming lot of memory in storing that and then showing it. \n",
    "# b.It uses yield keyword to give the output after it is produced\n",
    "def fib(n):\n",
    "    a,b=0,1\n",
    "    for i in range(n):\n",
    "        yield a\n",
    "        a,b = b,a+b\n",
    "for i in fib(10):\n",
    "    print i"
   ]
  },
  {
   "cell_type": "code",
   "execution_count": 23,
   "id": "0b14657e-c7b1-40e6-9025-9c5fe788c3e8",
   "metadata": {},
   "outputs": [
    {
     "name": "stdout",
     "output_type": "stream",
     "text": [
      "0\n",
      "1\n",
      "2\n",
      "3\n",
      "4\n",
      "5\n",
      "6\n",
      "7\n",
      "8\n",
      "9\n",
      "10\n",
      "11\n",
      "12\n",
      "13\n",
      "14\n",
      "15\n",
      "16\n",
      "17\n",
      "18\n",
      "19\n",
      "20\n"
     ]
    }
   ],
   "source": [
    "# Question 5\n",
    "def prime(n):\n",
    "    for i in range(1000):\n",
    "        yield i\n",
    "p = iter(prime(n))\n",
    "for i in range(21):\n",
    "    print(next(p))"
   ]
  },
  {
   "cell_type": "code",
   "execution_count": 2,
   "id": "df89e48e-f474-45ea-b8fa-90f523e3cef5",
   "metadata": {},
   "outputs": [
    {
     "data": {
      "text/plain": [
       "[0, 1, 1, 2, 3, 5, 8, 13, 21, 34, 55]"
      ]
     },
     "execution_count": 2,
     "metadata": {},
     "output_type": "execute_result"
    }
   ],
   "source": [
    "# Question 6. \n",
    "n = 10\n",
    "i = 0\n",
    "a = 0\n",
    "b = 1\n",
    "l = []\n",
    "while(i<=n):\n",
    "    l.append(a)\n",
    "    a, b = b,a+b\n",
    "    i = i+1\n",
    "l "
   ]
  },
  {
   "cell_type": "code",
   "execution_count": 1,
   "id": "c04089fc-bf10-4658-a813-272186c5835c",
   "metadata": {},
   "outputs": [
    {
     "data": {
      "text/plain": [
       "['p', 'w', 's', 'k', 'i', 'l', 'l', 's']"
      ]
     },
     "execution_count": 1,
     "metadata": {},
     "output_type": "execute_result"
    }
   ],
   "source": [
    "# Question 7\n",
    "s = 'pwskills'\n",
    "[s[i] for i in range(len(s))]"
   ]
  },
  {
   "cell_type": "code",
   "execution_count": 5,
   "id": "51d7c7df-0858-4cf9-b135-d31a4c749e13",
   "metadata": {},
   "outputs": [
    {
     "name": "stdin",
     "output_type": "stream",
     "text": [
      "Enter the number 123454321\n"
     ]
    },
    {
     "name": "stdout",
     "output_type": "stream",
     "text": [
      "YES IT'S A PALLIDROME\n"
     ]
    }
   ],
   "source": [
    "# Question 8\n",
    "n = input(\"Enter the number\")\n",
    "i = 0\n",
    "is_pallidrome = True\n",
    "while(i<=len(n)/2):\n",
    "    if (n[i] != n[len(n) - i - 1]):\n",
    "        is_pallidrome = False\n",
    "        break;\n",
    "    i = i+1\n",
    "if (is_pallidrome):\n",
    "    print(\"YES IT'S A PALLIDROME\")\n",
    "else:\n",
    "    print(\"NOT A PALLIDROME\")"
   ]
  },
  {
   "cell_type": "code",
   "execution_count": 17,
   "id": "0616914f-4fac-47cd-86e4-7aceaf203ddf",
   "metadata": {},
   "outputs": [
    {
     "data": {
      "text/plain": [
       "[1,\n",
       " 3,\n",
       " 5,\n",
       " 7,\n",
       " 9,\n",
       " 11,\n",
       " 13,\n",
       " 15,\n",
       " 17,\n",
       " 19,\n",
       " 21,\n",
       " 23,\n",
       " 25,\n",
       " 27,\n",
       " 29,\n",
       " 31,\n",
       " 33,\n",
       " 35,\n",
       " 37,\n",
       " 39,\n",
       " 41,\n",
       " 43,\n",
       " 45,\n",
       " 47,\n",
       " 49,\n",
       " 51,\n",
       " 53,\n",
       " 55,\n",
       " 57,\n",
       " 59,\n",
       " 61,\n",
       " 63,\n",
       " 65,\n",
       " 67,\n",
       " 69,\n",
       " 71,\n",
       " 73,\n",
       " 75,\n",
       " 77,\n",
       " 79,\n",
       " 81,\n",
       " 83,\n",
       " 85,\n",
       " 87,\n",
       " 89,\n",
       " 91,\n",
       " 93,\n",
       " 95,\n",
       " 97,\n",
       " 99]"
      ]
     },
     "execution_count": 17,
     "metadata": {},
     "output_type": "execute_result"
    }
   ],
   "source": [
    "# Question 9\n",
    "[i for i in range(1,100) if i%2 != 0]"
   ]
  },
  {
   "cell_type": "code",
   "execution_count": null,
   "id": "c6473819-0b52-45c4-ade3-99adfb8d7883",
   "metadata": {},
   "outputs": [],
   "source": []
  }
 ],
 "metadata": {
  "kernelspec": {
   "display_name": "Python 3 (ipykernel)",
   "language": "python",
   "name": "python3"
  },
  "language_info": {
   "codemirror_mode": {
    "name": "ipython",
    "version": 3
   },
   "file_extension": ".py",
   "mimetype": "text/x-python",
   "name": "python",
   "nbconvert_exporter": "python",
   "pygments_lexer": "ipython3",
   "version": "3.10.8"
  }
 },
 "nbformat": 4,
 "nbformat_minor": 5
}
