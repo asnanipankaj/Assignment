{
 "cells": [
  {
   "cell_type": "code",
   "execution_count": 11,
   "id": "dcd50325-8ebd-4560-8a6a-41f09ad969c3",
   "metadata": {},
   "outputs": [
    {
     "name": "stdout",
     "output_type": "stream",
     "text": [
      "5\n",
      "15\n",
      "25\n",
      "35\n",
      "45\n",
      "Now for while loop we can jump as much we want\n",
      "5\n",
      "15\n",
      "25\n",
      "35\n",
      "45\n"
     ]
    }
   ],
   "source": [
    "# Question 1\n",
    "# usr for loop when the increment is always 1 and when to we know how much time it should be executed\n",
    "for i in range(1,11,2):\n",
    "    print(5*i)\n",
    "print(\"Now for while loop we can jump as much we want\")\n",
    "k = 1\n",
    "while(k<=10):\n",
    "    print(5*k)\n",
    "    k = k+2"
   ]
  },
  {
   "cell_type": "code",
   "execution_count": 18,
   "id": "20c69bae-c89b-4f3b-8667-ebb9f5d1d603",
   "metadata": {},
   "outputs": [
    {
     "name": "stdout",
     "output_type": "stream",
     "text": [
      "Using while loop sum is = 55 and product is 3628800\n",
      "Using for loop sum is = 55 and product is 3628800\n"
     ]
    }
   ],
   "source": [
    "# Question 2\n",
    "# 1. Using While loop\n",
    "i = 1\n",
    "totalsum = 0\n",
    "totalproduct = 1\n",
    "while(i<=10):\n",
    "    totalsum = totalsum + i\n",
    "    totalproduct = totalproduct * i\n",
    "    i = i+1\n",
    "print(\"Using while loop sum is =\",totalsum,\"and product is\",totalproduct)\n",
    "# 2. Using for loop\n",
    "total_sum = 0\n",
    "total_product = 1\n",
    "for k in range(1,11):\n",
    "    total_sum = total_sum + k\n",
    "    total_product = total_product * k\n",
    "    k = k+1\n",
    "print(\"Using for loop sum is =\",total_sum,\"and product is\",total_product)"
   ]
  },
  {
   "cell_type": "code",
   "execution_count": 7,
   "id": "03a4611a-2372-4136-a9b6-2dc8b7ea6cab",
   "metadata": {},
   "outputs": [
    {
     "name": "stdin",
     "output_type": "stream",
     "text": [
      "Enter the units used 310\n"
     ]
    },
    {
     "name": "stdout",
     "output_type": "stream",
     "text": [
      "2250\n"
     ]
    }
   ],
   "source": [
    "# Question 3\n",
    "n = int(input(\"Enter the units used\"))\n",
    "bill = 0\n",
    "if n<=100:\n",
    "    bill = n*4.5\n",
    "elif n<=200 and n>100:\n",
    "    bill = 450 + (n-100)*6\n",
    "elif n<=300 and n>200:\n",
    "    bill = 1050 + (n-200)*10 \n",
    "elif n>300:\n",
    "    bill = 2050 + (n-300)*20\n",
    "print(bill)\n"
   ]
  },
  {
   "cell_type": "code",
   "execution_count": 1,
   "id": "2567729f-ea67-42de-8760-45c7199ff24c",
   "metadata": {},
   "outputs": [
    {
     "name": "stdout",
     "output_type": "stream",
     "text": [
      "[2, 4, 5, 6, 8, 10, 12, 14, 15, 16, 18, 20, 22, 24, 25, 26, 28, 30, 32, 34, 35, 36, 38, 40, 42, 44, 45, 46, 48, 50, 52, 54, 55, 56, 58, 60, 62, 64, 65, 66, 68, 70, 72, 74, 75, 76, 78, 80, 82, 84, 85, 86, 88, 90, 92, 94, 95, 96, 98, 100]\n"
     ]
    }
   ],
   "source": [
    "# Question 4\n",
    "l = []\n",
    "for i in range(1,101):\n",
    "    l.append(i)\n",
    "l1=[]\n",
    "for i in l:\n",
    "    l1.append(i**3)\n",
    "l2 = []\n",
    "k = 0\n",
    "while(k<100):\n",
    "    if (l1[k] % 4 == 0):\n",
    "        l2.append(int(l[k]))\n",
    "    elif(l1[k] % 5 == 0):\n",
    "        l2.append(int(l[k]))\n",
    "    k = k+1\n",
    "print(l2)"
   ]
  },
  {
   "cell_type": "code",
   "execution_count": 2,
   "id": "848fb5c2-665d-48cd-a5b8-b4ba3af33307",
   "metadata": {},
   "outputs": [
    {
     "name": "stdout",
     "output_type": "stream",
     "text": [
      "Total number of vowles are 11\n"
     ]
    }
   ],
   "source": [
    "# Question 5\n",
    "s = 'I want to become a data scientist'\n",
    "count = 0\n",
    "k = 0\n",
    "while(k<len(s)):\n",
    "    if s[k] == \"a\":\n",
    "        count = count + 1\n",
    "    elif s[k] == \"e\":\n",
    "        count = count + 1\n",
    "    elif s[k] == \"i\":\n",
    "        count = count + 1\n",
    "    elif s[k] == \"o\":\n",
    "        count = count + 1\n",
    "    elif s[k] == \"u\":\n",
    "        count = count + 1\n",
    "    k = k+1\n",
    "print(\"Total number of vowles are\",count)"
   ]
  },
  {
   "cell_type": "code",
   "execution_count": null,
   "id": "591440ce-bf1d-4a62-be9d-37fb07ff1164",
   "metadata": {},
   "outputs": [],
   "source": []
  }
 ],
 "metadata": {
  "kernelspec": {
   "display_name": "Python 3 (ipykernel)",
   "language": "python",
   "name": "python3"
  },
  "language_info": {
   "codemirror_mode": {
    "name": "ipython",
    "version": 3
   },
   "file_extension": ".py",
   "mimetype": "text/x-python",
   "name": "python",
   "nbconvert_exporter": "python",
   "pygments_lexer": "ipython3",
   "version": "3.10.8"
  }
 },
 "nbformat": 4,
 "nbformat_minor": 5
}
