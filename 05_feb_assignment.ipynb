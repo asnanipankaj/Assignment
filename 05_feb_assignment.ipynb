{
 "cells": [
  {
   "cell_type": "code",
   "execution_count": 2,
   "id": "bf4a38c2-ca40-48e4-a01d-a020ec0202c3",
   "metadata": {},
   "outputs": [
    {
     "name": "stdout",
     "output_type": "stream",
     "text": [
      "Welcome to the car world\n"
     ]
    }
   ],
   "source": [
    "# Question 1\n",
    "# class is a skeleton of a module which performs a certain type of task.\n",
    "# object is a variable of class which holds or can use the properties which class has.\n",
    "class cars: #having a outside skeleton \n",
    "    def welcome(self):\n",
    "        print(\"Welcome to the car world\")\n",
    "jaguar = cars()#jaguar is a entity in cars\n",
    "jaguar.welcome()"
   ]
  },
  {
   "cell_type": "code",
   "execution_count": 3,
   "id": "ceadb6be-345a-4095-b584-bf390e917ca1",
   "metadata": {},
   "outputs": [],
   "source": [
    "# Question 2\n",
    "# The 4 pillars of OOPS are:\n",
    "#     Abstraction\n",
    "#     Encapsulation\n",
    "#     Inheritence\n",
    "#     Polymorphism"
   ]
  },
  {
   "cell_type": "code",
   "execution_count": 5,
   "id": "1f2b0c2c-596d-424c-8636-e8661a155727",
   "metadata": {},
   "outputs": [],
   "source": [
    "# Question 3\n",
    "# __init__ is a constructor which automatically assigns itself to the class and is used to enter values inside the class.\n",
    "class cars:\n",
    "    def __init__(self,model_name):\n",
    "        self.model_name = model_name\n",
    "    def return_details(self):\n",
    "        return self.model_name"
   ]
  },
  {
   "cell_type": "code",
   "execution_count": 6,
   "id": "1cd339c0-7792-4808-b343-8cb83f75ff49",
   "metadata": {},
   "outputs": [],
   "source": [
    "mercedies = cars(\"benz\")"
   ]
  },
  {
   "cell_type": "code",
   "execution_count": 7,
   "id": "9ab12048-86f3-4682-8240-920db0adceda",
   "metadata": {},
   "outputs": [
    {
     "data": {
      "text/plain": [
       "'benz'"
      ]
     },
     "execution_count": 7,
     "metadata": {},
     "output_type": "execute_result"
    }
   ],
   "source": [
    "mercedies.return_details()"
   ]
  },
  {
   "cell_type": "code",
   "execution_count": 8,
   "id": "47e69e76-e5ce-40f4-857c-45bc233c808f",
   "metadata": {},
   "outputs": [],
   "source": [
    "# Question 4\n",
    "# Self is used to point a function to the class"
   ]
  },
  {
   "cell_type": "code",
   "execution_count": null,
   "id": "3a558a5f-9478-45e6-b0f7-a9c3492c3f21",
   "metadata": {},
   "outputs": [],
   "source": [
    "# Question 5\n",
    "# when all the properties of a parent class comes in child class and that class can have its own properties also that is called inheritence.\n",
    "# Types Single Inheritence:\n",
    "#     Single level Inheritence\n",
    "#     multilevel inheritence\n",
    "#     multiple inheritence\n",
    "#     multipath inheritence\n",
    "#     hierarchial inheritence\n",
    "#     hybrid inheritence"
   ]
  }
 ],
 "metadata": {
  "kernelspec": {
   "display_name": "Python 3 (ipykernel)",
   "language": "python",
   "name": "python3"
  },
  "language_info": {
   "codemirror_mode": {
    "name": "ipython",
    "version": 3
   },
   "file_extension": ".py",
   "mimetype": "text/x-python",
   "name": "python",
   "nbconvert_exporter": "python",
   "pygments_lexer": "ipython3",
   "version": "3.10.8"
  }
 },
 "nbformat": 4,
 "nbformat_minor": 5
}
