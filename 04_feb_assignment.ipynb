{
 "cells": [
  {
   "cell_type": "code",
   "execution_count": 28,
   "id": "d0121c9f-eff0-43a4-8268-c345baff6b42",
   "metadata": {},
   "outputs": [
    {
     "ename": "TypeError",
     "evalue": "'function' object is not iterable",
     "output_type": "error",
     "traceback": [
      "\u001b[0;31m---------------------------------------------------------------------------\u001b[0m",
      "\u001b[0;31mTypeError\u001b[0m                                 Traceback (most recent call last)",
      "Cell \u001b[0;32mIn[28], line 3\u001b[0m\n\u001b[1;32m      1\u001b[0m l \u001b[38;5;241m=\u001b[39m [(\u001b[38;5;124m\"\u001b[39m\u001b[38;5;124msachin tendulkar\u001b[39m\u001b[38;5;124m\"\u001b[39m,\u001b[38;5;241m34357\u001b[39m),(\u001b[38;5;124m\"\u001b[39m\u001b[38;5;124mricky ponting\u001b[39m\u001b[38;5;124m\"\u001b[39m,\u001b[38;5;241m27483\u001b[39m),(\u001b[38;5;124m\"\u001b[39m\u001b[38;5;124mjack kallis\u001b[39m\u001b[38;5;124m\"\u001b[39m,\u001b[38;5;241m25534\u001b[39m),(\u001b[38;5;124m\"\u001b[39m\u001b[38;5;124mvirat kohli\u001b[39m\u001b[38;5;124m\"\u001b[39m,\u001b[38;5;241m24936\u001b[39m)]\n\u001b[1;32m      2\u001b[0m \u001b[38;5;28miter\u001b[39m(l)\n\u001b[0;32m----> 3\u001b[0m \u001b[38;5;28;43mlist\u001b[39;49m\u001b[43m(\u001b[49m\u001b[38;5;28;43;01mlambda\u001b[39;49;00m\u001b[43m \u001b[49m\u001b[43mx\u001b[49m\u001b[43m \u001b[49m\u001b[43m:\u001b[49m\u001b[43m \u001b[49m\u001b[38;5;28;43mint\u001b[39;49m\u001b[43m(\u001b[49m\u001b[43mx\u001b[49m\u001b[43m)\u001b[49m\u001b[43m)\u001b[49m\n",
      "\u001b[0;31mTypeError\u001b[0m: 'function' object is not iterable"
     ]
    }
   ],
   "source": [
    "# Question 1\n",
    "l = [(\"sachin tendulkar\",34357),(\"ricky ponting\",27483),(\"jack kallis\",25534),(\"virat kohli\",24936)]\n",
    "iter(l)\n",
    "list(lambda x : int(x))"
   ]
  },
  {
   "cell_type": "code",
   "execution_count": 8,
   "id": "893737cb-e96c-4413-b624-d2e3fa1cf779",
   "metadata": {},
   "outputs": [
    {
     "data": {
      "text/plain": [
       "[1, 4, 9, 16, 25, 36, 49, 64, 81, 100]"
      ]
     },
     "execution_count": 8,
     "metadata": {},
     "output_type": "execute_result"
    }
   ],
   "source": [
    "# Question 2\n",
    "l = [1,2,3,4,5,6,7,8,9,10]\n",
    "list(map(lambda x : x**2,l))"
   ]
  },
  {
   "cell_type": "code",
   "execution_count": 1,
   "id": "9e874f49-af01-49f6-9a18-9e6d5a231933",
   "metadata": {},
   "outputs": [
    {
     "data": {
      "text/plain": [
       "('1', '2', '3', '4', '5', '6', '7', '8', '9', '10')"
      ]
     },
     "execution_count": 1,
     "metadata": {},
     "output_type": "execute_result"
    }
   ],
   "source": [
    "# Question 3\n",
    "l = [1,2,3,4,5,6,7,8,9,10]\n",
    "tuple(map(lambda x: str(x),l))"
   ]
  },
  {
   "cell_type": "code",
   "execution_count": 4,
   "id": "1d63839d-d30c-4eb1-ba76-e9232c1fc9e9",
   "metadata": {},
   "outputs": [],
   "source": [
    "# Question 4\n",
    "l1 = []\n",
    "for i in range(1,26):\n",
    "    l1.append(i)"
   ]
  },
  {
   "cell_type": "code",
   "execution_count": 5,
   "id": "705169d3-d198-44ea-8313-90f0aa94a459",
   "metadata": {},
   "outputs": [
    {
     "data": {
      "text/plain": [
       "[1,\n",
       " 2,\n",
       " 3,\n",
       " 4,\n",
       " 5,\n",
       " 6,\n",
       " 7,\n",
       " 8,\n",
       " 9,\n",
       " 10,\n",
       " 11,\n",
       " 12,\n",
       " 13,\n",
       " 14,\n",
       " 15,\n",
       " 16,\n",
       " 17,\n",
       " 18,\n",
       " 19,\n",
       " 20,\n",
       " 21,\n",
       " 22,\n",
       " 23,\n",
       " 24,\n",
       " 25]"
      ]
     },
     "execution_count": 5,
     "metadata": {},
     "output_type": "execute_result"
    }
   ],
   "source": [
    "l1"
   ]
  },
  {
   "cell_type": "code",
   "execution_count": 6,
   "id": "79027bef-2998-492c-8c52-f27a80cb2eba",
   "metadata": {},
   "outputs": [
    {
     "data": {
      "text/plain": [
       "3628800"
      ]
     },
     "execution_count": 6,
     "metadata": {},
     "output_type": "execute_result"
    }
   ],
   "source": [
    "from functools import reduce\n",
    "reduce(lambda x,y : x*y,l)"
   ]
  },
  {
   "cell_type": "code",
   "execution_count": 9,
   "id": "d9a95775-0254-4efc-bd35-2b4744adb588",
   "metadata": {},
   "outputs": [
    {
     "data": {
      "text/plain": [
       "[6, 60, 90, 120]"
      ]
     },
     "execution_count": 9,
     "metadata": {},
     "output_type": "execute_result"
    }
   ],
   "source": [
    "# Question 5\n",
    "l2 = [2,3,6,9,27,60,90,120,55,46]\n",
    "list(filter(lambda x : x%2 == 0 and x%3 == 0,l2))"
   ]
  },
  {
   "cell_type": "code",
   "execution_count": 25,
   "id": "7d82ebf2-e5d1-41e4-a7a8-5592ca7f1023",
   "metadata": {},
   "outputs": [
    {
     "data": {
      "text/plain": [
       "['php', 'aba', 'radar', 'level']"
      ]
     },
     "execution_count": 25,
     "metadata": {},
     "output_type": "execute_result"
    }
   ],
   "source": [
    "# Question 6\n",
    "l3 = [\"python\", \"php\", \"aba\", \"radar\", \"level\"]\n",
    "list(filter(lambda x: all(x[i] == x[len(x) - i - 1] for i in range(len(x) // 2)), l3))"
   ]
  }
 ],
 "metadata": {
  "kernelspec": {
   "display_name": "Python 3 (ipykernel)",
   "language": "python",
   "name": "python3"
  },
  "language_info": {
   "codemirror_mode": {
    "name": "ipython",
    "version": 3
   },
   "file_extension": ".py",
   "mimetype": "text/x-python",
   "name": "python",
   "nbconvert_exporter": "python",
   "pygments_lexer": "ipython3",
   "version": "3.10.8"
  }
 },
 "nbformat": 4,
 "nbformat_minor": 5
}
