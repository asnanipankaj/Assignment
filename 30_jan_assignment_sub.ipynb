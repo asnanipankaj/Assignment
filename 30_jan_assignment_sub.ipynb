{
 "cells": [
  {
   "cell_type": "code",
   "execution_count": 26,
   "id": "9149e54c-ab89-4c8f-9acf-5feaae47003f",
   "metadata": {},
   "outputs": [
    {
     "name": "stdin",
     "output_type": "stream",
     "text": [
      "Enter your percentage 91.6\n"
     ]
    },
    {
     "name": "stdout",
     "output_type": "stream",
     "text": [
      "A Grade\n"
     ]
    }
   ],
   "source": [
    "# Question 1\n",
    "percentage = float(input(\"Enter your percentage\"))\n",
    "if percentage>90 and percentage < 100:\n",
    "    print(\"A Grade\")\n",
    "elif percentage>80 and percentage <= 90:\n",
    "    print(\"B Grade\")\n",
    "elif percentage>=60 and percentage <= 80:\n",
    "    print(\"C Grade\")\n",
    "elif percentage<60 and percentage >=0:\n",
    "    print(\"D Grade\")\n",
    "else:\n",
    "    print(\"Please enter Correct Percentage\")"
   ]
  },
  {
   "cell_type": "code",
   "execution_count": 24,
   "id": "1c967a8b-15a5-42a1-bc16-80dc4dba2134",
   "metadata": {},
   "outputs": [
    {
     "name": "stdin",
     "output_type": "stream",
     "text": [
      "Enter the cost price of bike 25000\n"
     ]
    },
    {
     "name": "stdout",
     "output_type": "stream",
     "text": [
      "You have to pay 1250.0 as road tax\n"
     ]
    }
   ],
   "source": [
    "# Question 2\n",
    "cost_price = int(input(\"Enter the cost price of bike\"))\n",
    "if cost_price > 100000:\n",
    "    print(\"You have to pay\",(15/100)*cost_price, \"as road tax\")\n",
    "elif cost_price > 50000 and cost_price <=100000:\n",
    "    print(\"You have to pay\", (10/100)*cost_price, \"as road tax\")\n",
    "elif cost_price <= 50000:\n",
    "    print(\"You have to pay\",(5/100)*cost_price, \"as road tax\")"
   ]
  },
  {
   "cell_type": "code",
   "execution_count": 28,
   "id": "99cdd292-6452-4315-847e-de7468cf7dd9",
   "metadata": {},
   "outputs": [
    {
     "name": "stdin",
     "output_type": "stream",
     "text": [
      "Enter the city Jaipur\n"
     ]
    },
    {
     "name": "stdout",
     "output_type": "stream",
     "text": [
      "Famous monument is Jal Mahal\n"
     ]
    }
   ],
   "source": [
    "# Question 3\n",
    "city = input(\"Enter the city\")\n",
    "if city == \"Delhi\":\n",
    "    print(\"Famous monument is Red fort\")\n",
    "elif city == \"Agra\":\n",
    "    print(\"Famous monument is Taj Mahal\")\n",
    "elif city == \"Jaipur\":\n",
    "    print(\"Famous monument is Jal Mahal\")"
   ]
  },
  {
   "cell_type": "code",
   "execution_count": 31,
   "id": "e502e08f-ce21-4cf4-9871-b7aad13573b3",
   "metadata": {},
   "outputs": [
    {
     "name": "stdin",
     "output_type": "stream",
     "text": [
      "Enter any number 300\n"
     ]
    },
    {
     "name": "stdout",
     "output_type": "stream",
     "text": [
      "4\n"
     ]
    }
   ],
   "source": [
    "# Question 4\n",
    "number = float(input(\"Enter any number\"))\n",
    "count = 0\n",
    "while(number>10):\n",
    "    number = number/3\n",
    "    count = count + 1\n",
    "print(count)"
   ]
  },
  {
   "cell_type": "code",
   "execution_count": 32,
   "id": "7f9de3c8-390d-458e-b7c3-d82f2e8782f2",
   "metadata": {},
   "outputs": [],
   "source": [
    "# Question 5\n",
    "While loop should be used when we have to do a certain task repetitive time but by increasing or decreasing the frequency upto a certain limit. for eg. when we have to give print numbers from 1 to 10 in increasing order instead of printing each value differently we could use while loop which will print it and according to condition will also term"
   ]
  },
  {
   "cell_type": "code",
   "execution_count": null,
   "id": "17ea3b5b-04fd-4390-909b-629cca9c964c",
   "metadata": {},
   "outputs": [],
   "source": [
    "# Question 6\n",
    "n = 3\n",
    "while(n>2):\n",
    "    print(\"*\")\n",
    "    n = n-1\n",
    "    while(n>1):\n",
    "        print(\"**\")\n",
    "        n = n-1\n",
    "        while(n>0):\n",
    "            print(\"***\")\n",
    "            n = n-1"
   ]
  },
  {
   "cell_type": "code",
   "execution_count": 36,
   "id": "1697c11e-7bd4-438e-92a2-a1a2fcd3ffb4",
   "metadata": {},
   "outputs": [
    {
     "name": "stdout",
     "output_type": "stream",
     "text": [
      "10\n",
      "9\n",
      "8\n",
      "7\n",
      "6\n",
      "5\n",
      "4\n",
      "3\n",
      "2\n",
      "1\n"
     ]
    }
   ],
   "source": [
    "# Question 7 and 8\n",
    "n = 10\n",
    "while(n>0):\n",
    "    print(n)\n",
    "    n = n-1"
   ]
  },
  {
   "cell_type": "code",
   "execution_count": null,
   "id": "b56dddfc-cffa-434a-827b-bfc662941f67",
   "metadata": {},
   "outputs": [],
   "source": []
  }
 ],
 "metadata": {
  "kernelspec": {
   "display_name": "Python 3 (ipykernel)",
   "language": "python",
   "name": "python3"
  },
  "language_info": {
   "codemirror_mode": {
    "name": "ipython",
    "version": 3
   },
   "file_extension": ".py",
   "mimetype": "text/x-python",
   "name": "python",
   "nbconvert_exporter": "python",
   "pygments_lexer": "ipython3",
   "version": "3.10.8"
  }
 },
 "nbformat": 4,
 "nbformat_minor": 5
}
